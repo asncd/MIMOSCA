{
 "cells": [
  {
   "cell_type": "code",
   "execution_count": 1,
   "metadata": {
    "collapsed": false
   },
   "outputs": [],
   "source": [
    "%matplotlib inline"
   ]
  },
  {
   "cell_type": "code",
   "execution_count": 14,
   "metadata": {
    "collapsed": false
   },
   "outputs": [],
   "source": [
    "import sys\n",
    "import pandas as pd\n",
    "import numpy.matlib\n",
    "import numpy as np\n",
    "import scipy\n",
    "import matplotlib\n",
    "matplotlib.rcParams['pdf.fonttype'] = 42\n",
    "matplotlib.use('Agg')\n",
    "import matplotlib.pyplot as plt\n",
    "from scipy import stats\n",
    "from numpy import unravel_index"
   ]
  },
  {
   "cell_type": "code",
   "execution_count": 3,
   "metadata": {
    "collapsed": true
   },
   "outputs": [],
   "source": [
    "#progress bar function\n",
    "def update_progress(progress):\n",
    "    barLength = 10 # Modify this to change the length of the progress bar\n",
    "    status = \"\"\n",
    "    if isinstance(progress, int):\n",
    "        progress = float(progress)\n",
    "    if not isinstance(progress, float):\n",
    "        progress = 0\n",
    "        status = \"error: progress var must be float\\r\\n\"\n",
    "    if progress < 0:\n",
    "        progress = 0\n",
    "        status = \"Halt...\\r\\n\"\n",
    "    if progress >= 1:\n",
    "        progress = 1\n",
    "        status = \"Done...\\r\\n\"\n",
    "    block = int(round(barLength*progress))\n",
    "    text = \"\\rPercent: [{0}] {1}% {2}\".format( \"#\"*block + \"-\"*(barLength-block), progress*100, status)\n",
    "    sys.stdout.write(text)\n",
    "    sys.stdout.flush()"
   ]
  },
  {
   "cell_type": "code",
   "execution_count": 4,
   "metadata": {
    "collapsed": true
   },
   "outputs": [],
   "source": [
    "moifile='_CHANGEHERE_PATH2thisfile/moi_distri_cc.csv'"
   ]
  },
  {
   "cell_type": "code",
   "execution_count": 5,
   "metadata": {
    "collapsed": true
   },
   "outputs": [],
   "source": [
    "moi_dist=pd.read_csv(moifile,header=None,index_col=0)[1]"
   ]
  },
  {
   "cell_type": "code",
   "execution_count": 6,
   "metadata": {
    "collapsed": false
   },
   "outputs": [
    {
     "data": {
      "image/png": "[encoded data removed]",
      "text/plain": [
       "<matplotlib.figure.Figure at 0x105a77410>"
      ]
     },
     "metadata": {},
     "output_type": "display_data"
    }
   ],
   "source": [
    "n,bins,_=plt.hist(moi_dist,range(max(moi_dist)),alpha=0.5)"
   ]
  },
  {
   "cell_type": "code",
   "execution_count": 7,
   "metadata": {
    "collapsed": true
   },
   "outputs": [],
   "source": [
    "#maximum number of viruses possible\n",
    "maxk=10\n",
    "#total number of unique barcodes, for the example file it is 33\n",
    "num_virus=33"
   ]
  },
  {
   "cell_type": "code",
   "execution_count": null,
   "metadata": {
    "collapsed": false
   },
   "outputs": [
    {
     "name": "stdout",
     "output_type": "stream",
     "text": [
      "Percent: [########--] 83.8383838384% "
     ]
    }
   ],
   "source": [
    "#gridsize for performing lambda and alpha search\n",
    "nums=100\n",
    "\n",
    "#specify start and finishing MOI to search over, it is set to 0.1 and 3 here\n",
    "mois=np.linspace(0.1,3,nums)\n",
    "#specify start and finishing detection probability to search over, it is set to 0.1 and 0.99 here\n",
    "detects=np.linspace(0.1,0.99,nums)\n",
    "\n",
    "#initialize search array\n",
    "LL=np.zeros((nums,nums))\n",
    "\n",
    "\n",
    "#loop through square grid of different poission parameters and detection probabilities\n",
    "for i in range(nums):\n",
    "    update_progress(np.divide(1.0*i,nums-1.0))\n",
    "    for m in range(nums):\n",
    "        \n",
    "        #current parameter guesses\n",
    "        moi_guess=mois[i]\n",
    "        detect_guess=detects[m]\n",
    "          \n",
    "        #initialize possion distribution with current guess    \n",
    "        pdf=scipy.stats.poisson.pmf(k=range(maxk),mu=moi_guess)\n",
    "        \n",
    "        #Zero truncation and renormalization\n",
    "        pdf[0]=0\n",
    "        pdf=np.divide(pdf,np.sum(pdf))\n",
    "\n",
    "        \n",
    "        #get probabilities after convolving with binomial distribution\n",
    "        zibpdf=np.zeros((maxk,1))\n",
    "        for k in range(maxk):\n",
    "            pf=0\n",
    "            for j in np.arange(k,maxk):\n",
    "                pf+=pdf[j]*scipy.stats.binom.pmf(k,j,detect_guess)\n",
    "            zibpdf[k]=pf\n",
    "        \n",
    "        #evaluate log likelihood after multiplying with observed values\n",
    "        ll=1.0\n",
    "        for k in range(len(n)):\n",
    "            ll+=n[k]*np.log(zibpdf[k])\n",
    "        LL[i,m]=ll       "
   ]
  },
  {
   "cell_type": "code",
   "execution_count": null,
   "metadata": {
    "collapsed": false
   },
   "outputs": [],
   "source": [
    "#Log likelihood vs. paramter space\n",
    "plt.contour(np.round(detects,2),np.round(mois,2),LL,400,cmap='magma')\n",
    "plt.xlabel('Detection Probability')\n",
    "plt.ylabel('MOI')\n",
    "#plt.savefig(pathout+'/_ph_moi_LL.pdf')"
   ]
  },
  {
   "cell_type": "code",
   "execution_count": null,
   "metadata": {
    "collapsed": false
   },
   "outputs": [],
   "source": [
    "#Find paramters that maximize the log likelihood\n",
    "final_tuple=unravel_index(LL.argmax(), LL.shape)\n",
    "moi_guess=mois[final_tuple[0]]\n",
    "detect_guess=detects[final_tuple[1]]\n",
    "print(moi_guess,detect_guess)"
   ]
  },
  {
   "cell_type": "code",
   "execution_count": null,
   "metadata": {
    "collapsed": false
   },
   "outputs": [],
   "source": [
    "#Create expected probability distribution given these paramters\n",
    "pdf=scipy.stats.poisson.pmf(range(maxk),moi_guess)\n",
    "pdf[0]=0\n",
    "pdf=np.divide(pdf,np.sum(pdf))\n",
    "\n",
    "zibpdf=np.zeros((maxk,1))\n",
    "\n",
    "for k in range(maxk):\n",
    "    pf=0\n",
    "    for m in np.arange(k,maxk):\n",
    "        pf+=pdf[m]*scipy.stats.binom.pmf(k,m,detect_guess)\n",
    "    zibpdf[k]=pf\n",
    "    "
   ]
  },
  {
   "cell_type": "code",
   "execution_count": null,
   "metadata": {
    "collapsed": true
   },
   "outputs": [],
   "source": [
    "zibpdf_nocorrect=zibpdf.copy()"
   ]
  },
  {
   "cell_type": "code",
   "execution_count": null,
   "metadata": {
    "collapsed": false
   },
   "outputs": [],
   "source": [
    "plt.plot(range(maxk),np.cumsum(zibpdf_nocorrect),label='expected',alpha=0.75)\n",
    "plt.plot(bins[0:-1],np.cumsum(np.divide(1.0*n,np.sum(n))),label='observed',alpha=0.75)\n",
    "plt.xlabel('MOI')\n",
    "plt.ylabel('Cumulative Probability')\n",
    "plt.legend()\n",
    "plt.ylim([0,1.0])\n",
    "plt.xlim([0,8])"
   ]
  },
  {
   "cell_type": "code",
   "execution_count": null,
   "metadata": {
    "collapsed": true
   },
   "outputs": [],
   "source": [
    "#birthday problem correction, calculate the probability of drawing two of the same virus copies...\n",
    "#in this example the contribution is negligible since the majoirty of cells only our observed to have one guide\n",
    "top2bottom=np.arange(2,maxk,1)[::-1]\n",
    "for k in top2bottom:\n",
    "    delta_prob=zibpdf[k]*(1-scipy.stats.poisson.pmf(0,np.divide(scipy.misc.comb(k,2),num_virus)))\n",
    "    zibpdf[k-1]+=delta_prob[0]\n",
    "    zibpdf[k]-=delta_prob[0]"
   ]
  },
  {
   "cell_type": "code",
   "execution_count": null,
   "metadata": {
    "collapsed": false
   },
   "outputs": [],
   "source": [
    "plt.plot(range(maxk),np.log10(zibpdf_nocorrect),label='not corrected',alpha=0.75)\n",
    "plt.plot(range(maxk),np.log10(zibpdf),label='birthday corrected',alpha=0.75)\n",
    "plt.legend(loc='lower left')\n",
    "plt.xlim([0,8])\n",
    "plt.ylim([-10,0])\n",
    "plt.xlabel('Number of sgRNAs')\n",
    "plt.ylabel('Log10(probability)')"
   ]
  }
 ],
 "metadata": {
  "kernelspec": {
   "display_name": "Python 2",
   "language": "python",
   "name": "python2"
  },
  "language_info": {
   "codemirror_mode": {
    "name": "ipython",
    "version": 2
   },
   "file_extension": ".py",
   "mimetype": "text/x-python",
   "name": "python",
   "nbconvert_exporter": "python",
   "pygments_lexer": "ipython2",
   "version": "2.7.11"
  }
 },
 "nbformat": 4,
 "nbformat_minor": 0
}
